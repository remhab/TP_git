{
  "nbformat": 4,
  "nbformat_minor": 0,
  "metadata": {
    "colab": {
      "provenance": []
    },
    "kernelspec": {
      "name": "python3",
      "display_name": "Python 3"
    },
    "language_info": {
      "name": "python"
    }
  },
  "cells": [
    {
      "cell_type": "code",
      "execution_count": 2,
      "metadata": {
        "id": "KppFoRn7XzFb"
      },
      "outputs": [],
      "source": [
        "def count_lines(file_path):\n",
        "    # Ouvre le fichier en mode lecture et compte le nombre de lignes\n",
        "    with open(file_path, 'r') as file:\n",
        "        lines = file.readlines()\n",
        "        num_lines = len(lines)\n",
        "    return num_lines"
        "    # Bon code, mais carre reste un bon nom\n",
        "\n"
        
      ]
    }
  ]
}
